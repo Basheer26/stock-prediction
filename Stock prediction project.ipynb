{
 "cells": [
  {
   "cell_type": "code",
   "execution_count": 85,
   "id": "ba81a74e-f6a4-431c-b0d7-6bb6e5e73fef",
   "metadata": {},
   "outputs": [],
   "source": [
    "import yfinance as yf\n",
    "\n",
    "Microsoft_stock = yf.Ticker(\"MSFT\")\n",
    "Microsoft_stock_hist = Microsoft_stock.history(period=\"max\")"
   ]
  },
  {
   "cell_type": "code",
   "execution_count": 86,
   "id": "9ace0781-0383-4a6d-9d02-4a1dcbc07159",
   "metadata": {},
   "outputs": [
    {
     "data": {
      "text/html": [
       "<div>\n",
       "<style scoped>\n",
       "    .dataframe tbody tr th:only-of-type {\n",
       "        vertical-align: middle;\n",
       "    }\n",
       "\n",
       "    .dataframe tbody tr th {\n",
       "        vertical-align: top;\n",
       "    }\n",
       "\n",
       "    .dataframe thead th {\n",
       "        text-align: right;\n",
       "    }\n",
       "</style>\n",
       "<table border=\"1\" class=\"dataframe\">\n",
       "  <thead>\n",
       "    <tr style=\"text-align: right;\">\n",
       "      <th></th>\n",
       "      <th>Open</th>\n",
       "      <th>High</th>\n",
       "      <th>Low</th>\n",
       "      <th>Close</th>\n",
       "      <th>Volume</th>\n",
       "      <th>Dividends</th>\n",
       "      <th>Stock Splits</th>\n",
       "    </tr>\n",
       "    <tr>\n",
       "      <th>Date</th>\n",
       "      <th></th>\n",
       "      <th></th>\n",
       "      <th></th>\n",
       "      <th></th>\n",
       "      <th></th>\n",
       "      <th></th>\n",
       "      <th></th>\n",
       "    </tr>\n",
       "  </thead>\n",
       "  <tbody>\n",
       "    <tr>\n",
       "      <th>1986-03-13</th>\n",
       "      <td>0.055898</td>\n",
       "      <td>0.064119</td>\n",
       "      <td>0.055898</td>\n",
       "      <td>0.061378</td>\n",
       "      <td>1031788800</td>\n",
       "      <td>0.0</td>\n",
       "      <td>0.0</td>\n",
       "    </tr>\n",
       "    <tr>\n",
       "      <th>1986-03-14</th>\n",
       "      <td>0.061378</td>\n",
       "      <td>0.064667</td>\n",
       "      <td>0.061378</td>\n",
       "      <td>0.063570</td>\n",
       "      <td>308160000</td>\n",
       "      <td>0.0</td>\n",
       "      <td>0.0</td>\n",
       "    </tr>\n",
       "    <tr>\n",
       "      <th>1986-03-17</th>\n",
       "      <td>0.063570</td>\n",
       "      <td>0.065215</td>\n",
       "      <td>0.063570</td>\n",
       "      <td>0.064667</td>\n",
       "      <td>133171200</td>\n",
       "      <td>0.0</td>\n",
       "      <td>0.0</td>\n",
       "    </tr>\n",
       "    <tr>\n",
       "      <th>1986-03-18</th>\n",
       "      <td>0.064667</td>\n",
       "      <td>0.065215</td>\n",
       "      <td>0.062474</td>\n",
       "      <td>0.063022</td>\n",
       "      <td>67766400</td>\n",
       "      <td>0.0</td>\n",
       "      <td>0.0</td>\n",
       "    </tr>\n",
       "    <tr>\n",
       "      <th>1986-03-19</th>\n",
       "      <td>0.063022</td>\n",
       "      <td>0.063570</td>\n",
       "      <td>0.061378</td>\n",
       "      <td>0.061926</td>\n",
       "      <td>47894400</td>\n",
       "      <td>0.0</td>\n",
       "      <td>0.0</td>\n",
       "    </tr>\n",
       "  </tbody>\n",
       "</table>\n",
       "</div>"
      ],
      "text/plain": [
       "                Open      High       Low     Close      Volume  Dividends  \\\n",
       "Date                                                                        \n",
       "1986-03-13  0.055898  0.064119  0.055898  0.061378  1031788800        0.0   \n",
       "1986-03-14  0.061378  0.064667  0.061378  0.063570   308160000        0.0   \n",
       "1986-03-17  0.063570  0.065215  0.063570  0.064667   133171200        0.0   \n",
       "1986-03-18  0.064667  0.065215  0.062474  0.063022    67766400        0.0   \n",
       "1986-03-19  0.063022  0.063570  0.061378  0.061926    47894400        0.0   \n",
       "\n",
       "            Stock Splits  \n",
       "Date                      \n",
       "1986-03-13           0.0  \n",
       "1986-03-14           0.0  \n",
       "1986-03-17           0.0  \n",
       "1986-03-18           0.0  \n",
       "1986-03-19           0.0  "
      ]
     },
     "execution_count": 86,
     "metadata": {},
     "output_type": "execute_result"
    }
   ],
   "source": [
    "Microsoft_stock_hist.head(5) ## Microsoft stock data"
   ]
  },
  {
   "cell_type": "code",
   "execution_count": 87,
   "id": "b8874678-d1c0-429c-a473-3281be3189b0",
   "metadata": {},
   "outputs": [
    {
     "data": {
      "text/plain": [
       "<AxesSubplot:xlabel='Date'>"
      ]
     },
     "execution_count": 87,
     "metadata": {},
     "output_type": "execute_result"
    },
    {
     "data": {
      "image/png": "[encoded data removed]",
      "text/plain": [
       "<Figure size 432x288 with 1 Axes>"
      ]
     },
     "metadata": {
      "needs_background": "light"
     },
     "output_type": "display_data"
    }
   ],
   "source": [
    "Microsoft_stock_hist.plot.line(y=\"Close\",use_index=True)"
   ]
  },
  {
   "cell_type": "code",
   "execution_count": 88,
   "id": "7938e15f-27b6-4ffc-9643-ca3798d18bee",
   "metadata": {},
   "outputs": [],
   "source": [
    "data = Microsoft_stock_hist[[\"Close\"]]\n",
    "data = data.rename(columns = {'Close':'Actual_Close'})\n",
    "data[\"Target\"] = Microsoft_stock_hist.rolling(2).apply(lambda x: x.iloc[1]>x.iloc[0])[\"Close\"]"
   ]
  },
  {
   "cell_type": "code",
   "execution_count": 89,
   "id": "407e536d-c402-4d23-b935-8a2aaa85a049",
   "metadata": {},
   "outputs": [
    {
     "data": {
      "text/html": [
       "<div>\n",
       "<style scoped>\n",
       "    .dataframe tbody tr th:only-of-type {\n",
       "        vertical-align: middle;\n",
       "    }\n",
       "\n",
       "    .dataframe tbody tr th {\n",
       "        vertical-align: top;\n",
       "    }\n",
       "\n",
       "    .dataframe thead th {\n",
       "        text-align: right;\n",
       "    }\n",
       "</style>\n",
       "<table border=\"1\" class=\"dataframe\">\n",
       "  <thead>\n",
       "    <tr style=\"text-align: right;\">\n",
       "      <th></th>\n",
       "      <th>Actual_Close</th>\n",
       "      <th>Target</th>\n",
       "    </tr>\n",
       "    <tr>\n",
       "      <th>Date</th>\n",
       "      <th></th>\n",
       "      <th></th>\n",
       "    </tr>\n",
       "  </thead>\n",
       "  <tbody>\n",
       "    <tr>\n",
       "      <th>1986-03-13</th>\n",
       "      <td>0.061378</td>\n",
       "      <td>NaN</td>\n",
       "    </tr>\n",
       "    <tr>\n",
       "      <th>1986-03-14</th>\n",
       "      <td>0.063570</td>\n",
       "      <td>1.0</td>\n",
       "    </tr>\n",
       "    <tr>\n",
       "      <th>1986-03-17</th>\n",
       "      <td>0.064667</td>\n",
       "      <td>1.0</td>\n",
       "    </tr>\n",
       "    <tr>\n",
       "      <th>1986-03-18</th>\n",
       "      <td>0.063022</td>\n",
       "      <td>0.0</td>\n",
       "    </tr>\n",
       "    <tr>\n",
       "      <th>1986-03-19</th>\n",
       "      <td>0.061926</td>\n",
       "      <td>0.0</td>\n",
       "    </tr>\n",
       "  </tbody>\n",
       "</table>\n",
       "</div>"
      ],
      "text/plain": [
       "            Actual_Close  Target\n",
       "Date                            \n",
       "1986-03-13      0.061378     NaN\n",
       "1986-03-14      0.063570     1.0\n",
       "1986-03-17      0.064667     1.0\n",
       "1986-03-18      0.063022     0.0\n",
       "1986-03-19      0.061926     0.0"
      ]
     },
     "execution_count": 89,
     "metadata": {},
     "output_type": "execute_result"
    }
   ],
   "source": [
    "data.head(5)"
   ]
  },
  {
   "cell_type": "code",
   "execution_count": 90,
   "id": "b185674d-0332-4159-92db-cf566323e0d4",
   "metadata": {},
   "outputs": [],
   "source": [
    "Microsoft_stock_hist_prev = Microsoft_stock_hist.copy()\n",
    "Microsoft_stock_hist_prev = Microsoft_stock_hist_prev.shift(1)"
   ]
  },
  {
   "cell_type": "raw",
   "id": "d40eb58a-f503-4581-a367-247c88bf7c63",
   "metadata": {
    "tags": []
   },
   "source": [
    "Microsoft_stock_hist_prev.head(5)"
   ]
  },
  {
   "cell_type": "code",
   "execution_count": 91,
   "id": "cf9a124e-fc4a-492e-bbd9-f347cd2de779",
   "metadata": {},
   "outputs": [],
   "source": [
    "predictors = [\"Close\", \"High\", \"Low\", \"Open\",\"Volume\"]\n",
    "data = data.join(Microsoft_stock_hist_prev[predictors]).iloc[1:]"
   ]
  },
  {
   "cell_type": "code",
   "execution_count": 92,
   "id": "39a7a790-b6cb-463e-a71f-ede475016d8b",
   "metadata": {},
   "outputs": [
    {
     "data": {
      "text/html": [
       "<div>\n",
       "<style scoped>\n",
       "    .dataframe tbody tr th:only-of-type {\n",
       "        vertical-align: middle;\n",
       "    }\n",
       "\n",
       "    .dataframe tbody tr th {\n",
       "        vertical-align: top;\n",
       "    }\n",
       "\n",
       "    .dataframe thead th {\n",
       "        text-align: right;\n",
       "    }\n",
       "</style>\n",
       "<table border=\"1\" class=\"dataframe\">\n",
       "  <thead>\n",
       "    <tr style=\"text-align: right;\">\n",
       "      <th></th>\n",
       "      <th>Actual_Close</th>\n",
       "      <th>Target</th>\n",
       "      <th>Close</th>\n",
       "      <th>High</th>\n",
       "      <th>Low</th>\n",
       "      <th>Open</th>\n",
       "      <th>Volume</th>\n",
       "    </tr>\n",
       "    <tr>\n",
       "      <th>Date</th>\n",
       "      <th></th>\n",
       "      <th></th>\n",
       "      <th></th>\n",
       "      <th></th>\n",
       "      <th></th>\n",
       "      <th></th>\n",
       "      <th></th>\n",
       "    </tr>\n",
       "  </thead>\n",
       "  <tbody>\n",
       "    <tr>\n",
       "      <th>1986-03-14</th>\n",
       "      <td>0.063570</td>\n",
       "      <td>1.0</td>\n",
       "      <td>0.061378</td>\n",
       "      <td>0.064119</td>\n",
       "      <td>0.055898</td>\n",
       "      <td>0.055898</td>\n",
       "      <td>1.031789e+09</td>\n",
       "    </tr>\n",
       "    <tr>\n",
       "      <th>1986-03-17</th>\n",
       "      <td>0.064667</td>\n",
       "      <td>1.0</td>\n",
       "      <td>0.063570</td>\n",
       "      <td>0.064667</td>\n",
       "      <td>0.061378</td>\n",
       "      <td>0.061378</td>\n",
       "      <td>3.081600e+08</td>\n",
       "    </tr>\n",
       "    <tr>\n",
       "      <th>1986-03-18</th>\n",
       "      <td>0.063022</td>\n",
       "      <td>0.0</td>\n",
       "      <td>0.064667</td>\n",
       "      <td>0.065215</td>\n",
       "      <td>0.063570</td>\n",
       "      <td>0.063570</td>\n",
       "      <td>1.331712e+08</td>\n",
       "    </tr>\n",
       "    <tr>\n",
       "      <th>1986-03-19</th>\n",
       "      <td>0.061926</td>\n",
       "      <td>0.0</td>\n",
       "      <td>0.063022</td>\n",
       "      <td>0.065215</td>\n",
       "      <td>0.062474</td>\n",
       "      <td>0.064667</td>\n",
       "      <td>6.776640e+07</td>\n",
       "    </tr>\n",
       "    <tr>\n",
       "      <th>1986-03-20</th>\n",
       "      <td>0.060282</td>\n",
       "      <td>0.0</td>\n",
       "      <td>0.061926</td>\n",
       "      <td>0.063570</td>\n",
       "      <td>0.061378</td>\n",
       "      <td>0.063022</td>\n",
       "      <td>4.789440e+07</td>\n",
       "    </tr>\n",
       "  </tbody>\n",
       "</table>\n",
       "</div>"
      ],
      "text/plain": [
       "            Actual_Close  Target     Close      High       Low      Open  \\\n",
       "Date                                                                       \n",
       "1986-03-14      0.063570     1.0  0.061378  0.064119  0.055898  0.055898   \n",
       "1986-03-17      0.064667     1.0  0.063570  0.064667  0.061378  0.061378   \n",
       "1986-03-18      0.063022     0.0  0.064667  0.065215  0.063570  0.063570   \n",
       "1986-03-19      0.061926     0.0  0.063022  0.065215  0.062474  0.064667   \n",
       "1986-03-20      0.060282     0.0  0.061926  0.063570  0.061378  0.063022   \n",
       "\n",
       "                  Volume  \n",
       "Date                      \n",
       "1986-03-14  1.031789e+09  \n",
       "1986-03-17  3.081600e+08  \n",
       "1986-03-18  1.331712e+08  \n",
       "1986-03-19  6.776640e+07  \n",
       "1986-03-20  4.789440e+07  "
      ]
     },
     "execution_count": 92,
     "metadata": {},
     "output_type": "execute_result"
    }
   ],
   "source": [
    "data.head(5) # 1 the price went up, 0 the price went down"
   ]
  },
  {
   "cell_type": "code",
   "execution_count": 93,
   "id": "6e2b783f-df67-4d70-a06f-57166066a57c",
   "metadata": {},
   "outputs": [
    {
     "name": "stdout",
     "output_type": "stream",
     "text": [
      "Requirement already satisfied: scikit-learn in /opt/anaconda3/lib/python3.8/site-packages (0.24.1)\n",
      "Requirement already satisfied: numpy>=1.13.3 in /opt/anaconda3/lib/python3.8/site-packages (from scikit-learn) (1.20.1)\n",
      "Requirement already satisfied: scipy>=0.19.1 in /opt/anaconda3/lib/python3.8/site-packages (from scikit-learn) (1.6.2)\n",
      "Requirement already satisfied: threadpoolctl>=2.0.0 in /opt/anaconda3/lib/python3.8/site-packages (from scikit-learn) (2.1.0)\n",
      "Requirement already satisfied: joblib>=0.11 in /opt/anaconda3/lib/python3.8/site-packages (from scikit-learn) (1.0.1)\n"
     ]
    }
   ],
   "source": [
    "!pip install scikit-learn"
   ]
  },
  {
   "cell_type": "code",
   "execution_count": 94,
   "id": "add3ea59-3da4-4f34-a813-dce84f044ca0",
   "metadata": {},
   "outputs": [],
   "source": [
    "from sklearn.ensemble import RandomForestClassifier"
   ]
  },
  {
   "cell_type": "code",
   "execution_count": 95,
   "id": "26b75154-ad76-4781-9979-6076aca41ed4",
   "metadata": {},
   "outputs": [
    {
     "data": {
      "text/plain": [
       "RandomForestClassifier(min_samples_split=200, random_state=1)"
      ]
     },
     "execution_count": 95,
     "metadata": {},
     "output_type": "execute_result"
    }
   ],
   "source": [
    "# min_samples_split = prevents overfitting so the model could be generalized and be good for the test data\n",
    "# random_state = we'll get the same answers\n",
    "model  = RandomForestClassifier(n_estimators=100, min_samples_split=200, random_state=1)\n",
    "\n",
    "train = data.iloc[:-100] # last 100\n",
    "test = data.iloc[-100:]\n",
    "\n",
    "model.fit(train[predictors], train[\"Target\"])"
   ]
  },
  {
   "cell_type": "code",
   "execution_count": 96,
   "id": "9875baa3-21c5-4d06-b41c-b1a7fdf68ae9",
   "metadata": {},
   "outputs": [
    {
     "data": {
      "text/plain": [
       "array([1., 1., 1., 0., 1., 0., 1., 0., 1., 1., 1., 1., 1., 1., 1., 0., 0.,\n",
       "       0., 0., 0., 0., 0., 0., 0., 0., 0., 0., 0., 0., 0., 0., 0., 0., 0.,\n",
       "       0., 0., 0., 0., 0., 0., 0., 0., 0., 0., 0., 0., 0., 0., 0., 0., 0.,\n",
       "       0., 0., 0., 0., 0., 0., 0., 0., 0., 0., 0., 0., 0., 0., 0., 0., 0.,\n",
       "       0., 0., 0., 0., 0., 0., 0., 0., 0., 0., 0., 0., 0., 0., 0., 1., 0.,\n",
       "       0., 0., 0., 0., 0., 0., 0., 0., 0., 0., 0., 0., 0., 1., 1.])"
      ]
     },
     "execution_count": 96,
     "metadata": {},
     "output_type": "execute_result"
    }
   ],
   "source": [
    "# We're trying to minimize our losses\n",
    "# to minimize false positive - the precentage of days the price actually went up\n",
    "from sklearn.metrics import precision_score\n",
    "\n",
    "preds = model.predict(test[predictors])\n",
    "preds"
   ]
  },
  {
   "cell_type": "code",
   "execution_count": 97,
   "id": "b9cf74c6-2054-4d7d-b75a-8236bdfb388f",
   "metadata": {},
   "outputs": [
    {
     "data": {
      "text/plain": [
       "Date\n",
       "2021-09-27    1.0\n",
       "2021-09-28    1.0\n",
       "2021-09-29    1.0\n",
       "2021-09-30    0.0\n",
       "2021-10-01    1.0\n",
       "             ... \n",
       "2022-02-10    0.0\n",
       "2022-02-11    0.0\n",
       "2022-02-14    0.0\n",
       "2022-02-15    1.0\n",
       "2022-02-16    1.0\n",
       "Length: 100, dtype: float64"
      ]
     },
     "execution_count": 97,
     "metadata": {},
     "output_type": "execute_result"
    }
   ],
   "source": [
    "import pandas as pd\n",
    "\n",
    "preds = pd.Series(preds, index=test.index)\n",
    "preds"
   ]
  },
  {
   "cell_type": "code",
   "execution_count": 98,
   "id": "b37f6c99-d130-49bc-8b03-cd884c81b7e7",
   "metadata": {},
   "outputs": [
    {
     "data": {
      "text/plain": [
       "0.5333333333333333"
      ]
     },
     "execution_count": 98,
     "metadata": {},
     "output_type": "execute_result"
    }
   ],
   "source": [
    "precision_score(test[\"Target\"], preds)"
   ]
  },
  {
   "cell_type": "code",
   "execution_count": 99,
   "id": "dd073a03-dfcc-44f0-a804-f107e1fb6631",
   "metadata": {},
   "outputs": [],
   "source": [
    "combined = pd.concat({\"Target\": test[\"Target\"], \"Predictions\": preds}, axis=1)"
   ]
  },
  {
   "cell_type": "code",
   "execution_count": 100,
   "id": "aad31136-700a-4e96-81b9-9228b14bd12e",
   "metadata": {},
   "outputs": [
    {
     "data": {
      "text/plain": [
       "<AxesSubplot:xlabel='Date'>"
      ]
     },
     "execution_count": 100,
     "metadata": {},
     "output_type": "execute_result"
    },
    {
     "data": {
      "image/png": "[encoded data removed]",
      "text/plain": [
       "<Figure size 432x288 with 1 Axes>"
      ]
     },
     "metadata": {
      "needs_background": "light"
     },
     "output_type": "display_data"
    }
   ],
   "source": [
    "combined.plot()"
   ]
  },
  {
   "cell_type": "code",
   "execution_count": 101,
   "id": "120cb97f-a9fa-409f-baf9-e209dbc946c9",
   "metadata": {},
   "outputs": [
    {
     "data": {
      "text/html": [
       "<div>\n",
       "<style scoped>\n",
       "    .dataframe tbody tr th:only-of-type {\n",
       "        vertical-align: middle;\n",
       "    }\n",
       "\n",
       "    .dataframe tbody tr th {\n",
       "        vertical-align: top;\n",
       "    }\n",
       "\n",
       "    .dataframe thead th {\n",
       "        text-align: right;\n",
       "    }\n",
       "</style>\n",
       "<table border=\"1\" class=\"dataframe\">\n",
       "  <thead>\n",
       "    <tr style=\"text-align: right;\">\n",
       "      <th></th>\n",
       "      <th>Actual_Close</th>\n",
       "      <th>Target</th>\n",
       "      <th>Close</th>\n",
       "      <th>High</th>\n",
       "      <th>Low</th>\n",
       "      <th>Open</th>\n",
       "      <th>Volume</th>\n",
       "    </tr>\n",
       "    <tr>\n",
       "      <th>Date</th>\n",
       "      <th></th>\n",
       "      <th></th>\n",
       "      <th></th>\n",
       "      <th></th>\n",
       "      <th></th>\n",
       "      <th></th>\n",
       "      <th></th>\n",
       "    </tr>\n",
       "  </thead>\n",
       "  <tbody>\n",
       "    <tr>\n",
       "      <th>2021-09-27</th>\n",
       "      <td>293.632812</td>\n",
       "      <td>0.0</td>\n",
       "      <td>298.803345</td>\n",
       "      <td>299.252505</td>\n",
       "      <td>296.387751</td>\n",
       "      <td>297.685395</td>\n",
       "      <td>14999000.0</td>\n",
       "    </tr>\n",
       "    <tr>\n",
       "      <th>2021-09-28</th>\n",
       "      <td>283.002228</td>\n",
       "      <td>0.0</td>\n",
       "      <td>293.632812</td>\n",
       "      <td>295.928600</td>\n",
       "      <td>292.405048</td>\n",
       "      <td>295.599216</td>\n",
       "      <td>23571700.0</td>\n",
       "    </tr>\n",
       "    <tr>\n",
       "      <th>2021-09-29</th>\n",
       "      <td>283.481354</td>\n",
       "      <td>1.0</td>\n",
       "      <td>283.002228</td>\n",
       "      <td>290.248979</td>\n",
       "      <td>282.233645</td>\n",
       "      <td>289.270758</td>\n",
       "      <td>43186200.0</td>\n",
       "    </tr>\n",
       "    <tr>\n",
       "      <th>2021-09-30</th>\n",
       "      <td>281.405182</td>\n",
       "      <td>0.0</td>\n",
       "      <td>283.481354</td>\n",
       "      <td>286.246284</td>\n",
       "      <td>282.493171</td>\n",
       "      <td>284.579351</td>\n",
       "      <td>26353700.0</td>\n",
       "    </tr>\n",
       "    <tr>\n",
       "      <th>2021-10-01</th>\n",
       "      <td>288.572052</td>\n",
       "      <td>1.0</td>\n",
       "      <td>281.405182</td>\n",
       "      <td>287.304362</td>\n",
       "      <td>281.105711</td>\n",
       "      <td>285.188239</td>\n",
       "      <td>32325800.0</td>\n",
       "    </tr>\n",
       "    <tr>\n",
       "      <th>...</th>\n",
       "      <td>...</td>\n",
       "      <td>...</td>\n",
       "      <td>...</td>\n",
       "      <td>...</td>\n",
       "      <td>...</td>\n",
       "      <td>...</td>\n",
       "      <td>...</td>\n",
       "    </tr>\n",
       "    <tr>\n",
       "      <th>2022-02-10</th>\n",
       "      <td>302.380005</td>\n",
       "      <td>0.0</td>\n",
       "      <td>311.209991</td>\n",
       "      <td>311.929993</td>\n",
       "      <td>307.390015</td>\n",
       "      <td>309.869995</td>\n",
       "      <td>31284700.0</td>\n",
       "    </tr>\n",
       "    <tr>\n",
       "      <th>2022-02-11</th>\n",
       "      <td>295.040009</td>\n",
       "      <td>0.0</td>\n",
       "      <td>302.380005</td>\n",
       "      <td>309.119995</td>\n",
       "      <td>300.700012</td>\n",
       "      <td>304.040009</td>\n",
       "      <td>45386200.0</td>\n",
       "    </tr>\n",
       "    <tr>\n",
       "      <th>2022-02-14</th>\n",
       "      <td>295.000000</td>\n",
       "      <td>0.0</td>\n",
       "      <td>295.040009</td>\n",
       "      <td>304.290009</td>\n",
       "      <td>294.220001</td>\n",
       "      <td>303.190002</td>\n",
       "      <td>39143900.0</td>\n",
       "    </tr>\n",
       "    <tr>\n",
       "      <th>2022-02-15</th>\n",
       "      <td>300.470001</td>\n",
       "      <td>1.0</td>\n",
       "      <td>295.000000</td>\n",
       "      <td>296.760010</td>\n",
       "      <td>291.350006</td>\n",
       "      <td>293.769989</td>\n",
       "      <td>36339400.0</td>\n",
       "    </tr>\n",
       "    <tr>\n",
       "      <th>2022-02-16</th>\n",
       "      <td>299.500000</td>\n",
       "      <td>0.0</td>\n",
       "      <td>300.470001</td>\n",
       "      <td>300.799988</td>\n",
       "      <td>297.019989</td>\n",
       "      <td>300.010010</td>\n",
       "      <td>27379500.0</td>\n",
       "    </tr>\n",
       "  </tbody>\n",
       "</table>\n",
       "<p>100 rows × 7 columns</p>\n",
       "</div>"
      ],
      "text/plain": [
       "            Actual_Close  Target       Close        High         Low  \\\n",
       "Date                                                                   \n",
       "2021-09-27    293.632812     0.0  298.803345  299.252505  296.387751   \n",
       "2021-09-28    283.002228     0.0  293.632812  295.928600  292.405048   \n",
       "2021-09-29    283.481354     1.0  283.002228  290.248979  282.233645   \n",
       "2021-09-30    281.405182     0.0  283.481354  286.246284  282.493171   \n",
       "2021-10-01    288.572052     1.0  281.405182  287.304362  281.105711   \n",
       "...                  ...     ...         ...         ...         ...   \n",
       "2022-02-10    302.380005     0.0  311.209991  311.929993  307.390015   \n",
       "2022-02-11    295.040009     0.0  302.380005  309.119995  300.700012   \n",
       "2022-02-14    295.000000     0.0  295.040009  304.290009  294.220001   \n",
       "2022-02-15    300.470001     1.0  295.000000  296.760010  291.350006   \n",
       "2022-02-16    299.500000     0.0  300.470001  300.799988  297.019989   \n",
       "\n",
       "                  Open      Volume  \n",
       "Date                                \n",
       "2021-09-27  297.685395  14999000.0  \n",
       "2021-09-28  295.599216  23571700.0  \n",
       "2021-09-29  289.270758  43186200.0  \n",
       "2021-09-30  284.579351  26353700.0  \n",
       "2021-10-01  285.188239  32325800.0  \n",
       "...                ...         ...  \n",
       "2022-02-10  309.869995  31284700.0  \n",
       "2022-02-11  304.040009  45386200.0  \n",
       "2022-02-14  303.190002  39143900.0  \n",
       "2022-02-15  293.769989  36339400.0  \n",
       "2022-02-16  300.010010  27379500.0  \n",
       "\n",
       "[100 rows x 7 columns]"
      ]
     },
     "execution_count": 101,
     "metadata": {},
     "output_type": "execute_result"
    }
   ],
   "source": [
    "test"
   ]
  },
  {
   "cell_type": "code",
   "execution_count": 102,
   "id": "d7e83121-4e27-4747-abf7-9a50c3aaddf6",
   "metadata": {},
   "outputs": [
    {
     "data": {
      "text/plain": [
       "array([[0.37803882, 0.62196118],\n",
       "       [0.34775225, 0.65224775],\n",
       "       [0.42753771, 0.57246229],\n",
       "       ...,\n",
       "       [0.37499829, 0.62500171],\n",
       "       [0.3694885 , 0.6305115 ],\n",
       "       [0.43116603, 0.56883397]])"
      ]
     },
     "execution_count": 102,
     "metadata": {},
     "output_type": "execute_result"
    }
   ],
   "source": [
    "## Backtesting\n",
    "## predict future data based on data in the past\n",
    "## better than cross-validation to predict and generalize the model\n",
    "\n",
    "start = 1000\n",
    "step = 750\n",
    "i = 1000\n",
    "\n",
    "train = data.iloc[0:i].copy()\n",
    "test = data.iloc[i:i+step].copy()\n",
    "\n",
    "model.fit(train[predictors], train[\"Target\"])\n",
    "\n",
    "preds = model.predict_proba(test[predictors])\n",
    "preds\n",
    "# first column 1 - probability that price will go down (0)\n",
    "# second column - probability that price will go up (1)"
   ]
  },
  {
   "cell_type": "code",
   "execution_count": 103,
   "id": "5937e209-58ed-403c-8fba-505c293d430a",
   "metadata": {},
   "outputs": [
    {
     "data": {
      "text/plain": [
       "array([0.62196118, 0.65224775, 0.57246229, 0.62429293, 0.61912816,\n",
       "       0.62429293, 0.62484881, 0.54656835, 0.63312438, 0.62429293,\n",
       "       0.62586691, 0.63312438, 0.61595762, 0.63312438, 0.61937922,\n",
       "       0.63175519, 0.62500171, 0.63196118, 0.62500171, 0.63222534,\n",
       "       0.63222534, 0.63222534, 0.61912816, 0.6305115 , 0.5457993 ,\n",
       "       0.63299567, 0.63312438, 0.62848793, 0.62076791, 0.63299567,\n",
       "       0.5334947 , 0.59748904, 0.63196118, 0.56720834, 0.57436001,\n",
       "       0.62076791, 0.62162135, 0.63146161, 0.60256567, 0.6305115 ,\n",
       "       0.54656835, 0.63222534, 0.55587587, 0.63958667, 0.64017584,\n",
       "       0.63222534, 0.5334947 , 0.59748904, 0.54656835, 0.62162135,\n",
       "       0.64420553, 0.53958717, 0.64309442, 0.64309442, 0.55083613,\n",
       "       0.63222534, 0.55514408, 0.58721736, 0.61912816, 0.60891195,\n",
       "       0.60906873, 0.60906873, 0.60906873, 0.61912816, 0.6321172 ,\n",
       "       0.6305115 , 0.63196118, 0.63196118, 0.63146161, 0.62848793,\n",
       "       0.63312438, 0.63170654, 0.6305115 , 0.63146161, 0.55587587,\n",
       "       0.62848793, 0.63146161, 0.64017584, 0.63222534, 0.58721736,\n",
       "       0.57436001, 0.5369147 , 0.5369147 , 0.63196118, 0.64420553,\n",
       "       0.53958717, 0.5334947 , 0.53958717, 0.53958717, 0.62848793,\n",
       "       0.63224775, 0.58721736, 0.5457993 , 0.5334947 , 0.5334947 ,\n",
       "       0.63312438, 0.62350228, 0.64309442, 0.63222534, 0.58721736,\n",
       "       0.6305115 , 0.63312438, 0.62809911, 0.60906873, 0.63183888,\n",
       "       0.61637414, 0.64017584, 0.63312438, 0.58810495, 0.61937922,\n",
       "       0.62640065, 0.61937922, 0.61937922, 0.62640065, 0.63312438,\n",
       "       0.62848793, 0.63299567, 0.63222534, 0.5334947 , 0.64017584,\n",
       "       0.63222534, 0.62350228, 0.61937922, 0.60891195, 0.62848793,\n",
       "       0.61912816, 0.62350228, 0.61912816, 0.62848793, 0.62848793,\n",
       "       0.62076791, 0.58504195, 0.55083613, 0.63222534, 0.61937922,\n",
       "       0.63222534, 0.62809911, 0.62848793, 0.62809911, 0.64309442,\n",
       "       0.62886314, 0.63196118, 0.62890138, 0.63222534, 0.63222534,\n",
       "       0.62848793, 0.63312438, 0.63222534, 0.56883397, 0.62076791,\n",
       "       0.62162135, 0.61595762, 0.63312438, 0.63482679, 0.63196118,\n",
       "       0.63312438, 0.55624151, 0.62076791, 0.61937922, 0.63312438,\n",
       "       0.61912816, 0.61595762, 0.61637414, 0.60906873, 0.61937922,\n",
       "       0.60891195, 0.62848793, 0.63299567, 0.63222534, 0.64017584,\n",
       "       0.63146161, 0.62886314, 0.63222534, 0.62890138, 0.64309442,\n",
       "       0.62809911, 0.64420553, 0.63146161, 0.6305115 , 0.59150622,\n",
       "       0.59150622, 0.63312438, 0.62886314, 0.63183888, 0.6305115 ,\n",
       "       0.62886314, 0.59748904, 0.62484881, 0.62890138, 0.53880896,\n",
       "       0.54656835, 0.6305115 , 0.62848793, 0.62076791, 0.63299567,\n",
       "       0.62886314, 0.63222534, 0.62484881, 0.61912816, 0.63312438,\n",
       "       0.63222534, 0.63224775, 0.63299567, 0.64420553, 0.61677672,\n",
       "       0.53900633, 0.63690311, 0.5369147 , 0.55083613, 0.5334947 ,\n",
       "       0.53880896, 0.53880896, 0.53880896, 0.53880896, 0.53900633,\n",
       "       0.54735179, 0.63222534, 0.63146161, 0.63312438, 0.62429293,\n",
       "       0.61937922, 0.61937922, 0.63224775, 0.63146161, 0.63312438,\n",
       "       0.60906873, 0.60891195, 0.61912816, 0.60891195, 0.61937922,\n",
       "       0.62848793, 0.63312438, 0.63312438, 0.61595762, 0.60906873,\n",
       "       0.61253812, 0.61937922, 0.61937922, 0.63312438, 0.63312438,\n",
       "       0.61912816, 0.61795762, 0.62809911, 0.60662684, 0.62162135,\n",
       "       0.62350228, 0.61795762, 0.61937922, 0.62076791, 0.63222534,\n",
       "       0.62484881, 0.61912816, 0.63312438, 0.63222534, 0.63312438,\n",
       "       0.63222534, 0.62848793, 0.55083613, 0.62429293, 0.61912816,\n",
       "       0.60891195, 0.61795762, 0.60891195, 0.60891195, 0.61912816,\n",
       "       0.61912816, 0.62598411, 0.62076791, 0.62500171, 0.63312438,\n",
       "       0.61937922, 0.62162135, 0.63183888, 0.63170654, 0.62500171,\n",
       "       0.5334947 , 0.63146161, 0.62162135, 0.62640065, 0.63299567,\n",
       "       0.61912816, 0.55587587, 0.62890138, 0.62809911, 0.54656835,\n",
       "       0.60119766, 0.63312438, 0.63175519, 0.61595762, 0.63312438,\n",
       "       0.62162135, 0.60906873, 0.61912816, 0.63312438, 0.62076791,\n",
       "       0.63312438, 0.63299567, 0.61937922, 0.61937922, 0.62886314,\n",
       "       0.53900633, 0.60256567, 0.64420553, 0.63482679, 0.62429293,\n",
       "       0.63690311, 0.62484881, 0.63146161, 0.61937922, 0.63196118,\n",
       "       0.60256567, 0.62076791, 0.63312438, 0.63312438, 0.62886314,\n",
       "       0.62886314, 0.59691852, 0.6305115 , 0.63224775, 0.63312438,\n",
       "       0.55083613, 0.53958717, 0.58716733, 0.5334947 , 0.63690311,\n",
       "       0.5334947 , 0.58721736, 0.64017584, 0.54735179, 0.55587587,\n",
       "       0.5334947 , 0.55083613, 0.60891195, 0.59771863, 0.62886314,\n",
       "       0.62848793, 0.62162135, 0.62162135, 0.63872534, 0.63041021,\n",
       "       0.63299567, 0.59691852, 0.59771863, 0.62848793, 0.61912816,\n",
       "       0.62598411, 0.62886314, 0.64017584, 0.53958717, 0.5457993 ,\n",
       "       0.59150622, 0.58504195, 0.53900633, 0.53900633, 0.53958717,\n",
       "       0.53958717, 0.63222534, 0.63170654, 0.61123343, 0.60906873,\n",
       "       0.62848793, 0.61937922, 0.63222534, 0.63312438, 0.5334947 ,\n",
       "       0.63222534, 0.63196118, 0.62640065, 0.61937922, 0.63958667,\n",
       "       0.62350228, 0.62886314, 0.59748904, 0.63690311, 0.63312438,\n",
       "       0.63958667, 0.63299567, 0.59691852, 0.59150622, 0.59691852,\n",
       "       0.5369147 , 0.58721736, 0.53900633, 0.53880896, 0.5334947 ,\n",
       "       0.55514408, 0.63146161, 0.64420553, 0.5334947 , 0.62076791,\n",
       "       0.6305115 , 0.63222534, 0.64017584, 0.53880896, 0.53900633,\n",
       "       0.53900633, 0.64017584, 0.5334947 , 0.64309442, 0.54656835,\n",
       "       0.53900633, 0.54656835, 0.5334947 , 0.53900633, 0.53880896,\n",
       "       0.62886314, 0.53958717, 0.53900633, 0.53900633, 0.54735179,\n",
       "       0.62890138, 0.58721736, 0.63196118, 0.64420553, 0.63482679,\n",
       "       0.61912816, 0.62350228, 0.54735179, 0.5334947 , 0.5334947 ,\n",
       "       0.5457993 , 0.53900633, 0.53900633, 0.54735179, 0.5457993 ,\n",
       "       0.62076791, 0.58504195, 0.5369147 , 0.5334947 , 0.63690311,\n",
       "       0.55514408, 0.53880896, 0.5457993 , 0.58504195, 0.62848793,\n",
       "       0.63482679, 0.59691852, 0.63299567, 0.63299567, 0.63299567,\n",
       "       0.5457993 , 0.53958717, 0.54735179, 0.5334947 , 0.63146161,\n",
       "       0.53880896, 0.53880896, 0.63222534, 0.6305115 , 0.53958717,\n",
       "       0.53900633, 0.64017584, 0.63482679, 0.55587587, 0.55971288,\n",
       "       0.5457993 , 0.53900633, 0.53900633, 0.53900633, 0.5334947 ,\n",
       "       0.54735179, 0.53958717, 0.55587587, 0.53900633, 0.53900633,\n",
       "       0.5457993 , 0.53958717, 0.58504195, 0.62809911, 0.54735179,\n",
       "       0.6305115 , 0.6305115 , 0.62640065, 0.63312438, 0.6305115 ,\n",
       "       0.63222534, 0.59691852, 0.62076791, 0.63146161, 0.63312438,\n",
       "       0.63146161, 0.61937922, 0.63222534, 0.62429293, 0.54735179,\n",
       "       0.55587587, 0.62350228, 0.62162135, 0.58721736, 0.64309442,\n",
       "       0.62848793, 0.63146161, 0.63299567, 0.62878621, 0.5457993 ,\n",
       "       0.58716733, 0.58504195, 0.63312438, 0.62162135, 0.63312438,\n",
       "       0.63299567, 0.60906873, 0.62809911, 0.62640065, 0.63146161,\n",
       "       0.63958667, 0.61912816, 0.62848793, 0.63146161, 0.53958717,\n",
       "       0.53900633, 0.5334947 , 0.63222534, 0.63224775, 0.5334947 ,\n",
       "       0.59748904, 0.57436001, 0.64309442, 0.5457993 , 0.63222534,\n",
       "       0.62350228, 0.63196118, 0.61937922, 0.53958717, 0.54735179,\n",
       "       0.63196118, 0.5457993 , 0.62890138, 0.63170654, 0.58504195,\n",
       "       0.63312438, 0.62809911, 0.63958667, 0.63183888, 0.56436001,\n",
       "       0.63299567, 0.61912816, 0.63196118, 0.61595762, 0.59748904,\n",
       "       0.63299567, 0.59771863, 0.62076791, 0.59771863, 0.61912816,\n",
       "       0.63224775, 0.61937922, 0.62751825, 0.61912816, 0.59771863,\n",
       "       0.60906873, 0.62162135, 0.63224775, 0.63299567, 0.63146161,\n",
       "       0.64309442, 0.58504195, 0.63183888, 0.58504195, 0.64309442,\n",
       "       0.6305115 , 0.63299567, 0.58504195, 0.5457993 , 0.64017584,\n",
       "       0.63146161, 0.61677672, 0.5457993 , 0.54735179, 0.5334947 ,\n",
       "       0.63187316, 0.63170654, 0.62484881, 0.58810495, 0.53900633,\n",
       "       0.58721736, 0.58504195, 0.56436001, 0.63312438, 0.62076791,\n",
       "       0.61595762, 0.60906873, 0.63222534, 0.63958667, 0.63196118,\n",
       "       0.63222534, 0.59150622, 0.63222534, 0.63958667, 0.5369147 ,\n",
       "       0.60891195, 0.60906873, 0.62640065, 0.63299567, 0.59748904,\n",
       "       0.63134288, 0.53958717, 0.63222534, 0.62500171, 0.62890138,\n",
       "       0.5334947 , 0.53958717, 0.58504195, 0.62848793, 0.58810495,\n",
       "       0.63183888, 0.61677672, 0.59748904, 0.63146161, 0.62484881,\n",
       "       0.62429293, 0.5334947 , 0.59748904, 0.60906873, 0.5334947 ,\n",
       "       0.53958717, 0.5334947 , 0.5334947 , 0.63183888, 0.53880896,\n",
       "       0.63222534, 0.58721736, 0.5334947 , 0.5334947 , 0.5334947 ,\n",
       "       0.5369147 , 0.6305115 , 0.62076791, 0.53900633, 0.5457993 ,\n",
       "       0.63222534, 0.59150622, 0.5457993 , 0.64309442, 0.63312438,\n",
       "       0.64309442, 0.53900633, 0.5334947 , 0.63224775, 0.63312438,\n",
       "       0.5334947 , 0.64309442, 0.62890138, 0.63222534, 0.5334947 ,\n",
       "       0.62350228, 0.59691852, 0.53958717, 0.53900633, 0.63299567,\n",
       "       0.5334947 , 0.5334947 , 0.5457993 , 0.5457993 , 0.58721736,\n",
       "       0.63222534, 0.57436001, 0.63183888, 0.54656835, 0.5457993 ,\n",
       "       0.63299567, 0.62809911, 0.63146161, 0.63183888, 0.56436001,\n",
       "       0.53958717, 0.63312438, 0.55083613, 0.53958717, 0.54656835,\n",
       "       0.63312438, 0.63312438, 0.62890138, 0.64309442, 0.56632054,\n",
       "       0.56436001, 0.64309442, 0.53958717, 0.5334947 , 0.53900633,\n",
       "       0.5334947 , 0.53958717, 0.53900633, 0.62751825, 0.62890138,\n",
       "       0.63222534, 0.55624151, 0.62890138, 0.55083613, 0.53900633,\n",
       "       0.53880896, 0.63958667, 0.5334947 , 0.55083613, 0.58504195,\n",
       "       0.61637414, 0.60906873, 0.63222534, 0.53880896, 0.53958717,\n",
       "       0.5334947 , 0.64309442, 0.53900633, 0.53900633, 0.55587587,\n",
       "       0.53900633, 0.53900633, 0.63312438, 0.61937922, 0.64017584,\n",
       "       0.59748904, 0.63299567, 0.63690311, 0.62809911, 0.6305115 ,\n",
       "       0.63958667, 0.63183888, 0.5334947 , 0.59748904, 0.63183888,\n",
       "       0.64420553, 0.5334947 , 0.63299567, 0.63299567, 0.63312438,\n",
       "       0.63146161, 0.59691852, 0.63146161, 0.63312438, 0.63312438,\n",
       "       0.61937922, 0.60119766, 0.64420553, 0.63222534, 0.54656835,\n",
       "       0.63299567, 0.64309442, 0.64309442, 0.58810495, 0.6305115 ,\n",
       "       0.62848793, 0.57436001, 0.59150622, 0.63196118, 0.63299567,\n",
       "       0.61743309, 0.60119766, 0.62500171, 0.6305115 , 0.56883397])"
      ]
     },
     "execution_count": 103,
     "metadata": {},
     "output_type": "execute_result"
    }
   ],
   "source": [
    "start = 1000\n",
    "step = 750\n",
    "i = 1000\n",
    "\n",
    "train = data.iloc[0:i].copy()\n",
    "test = data.iloc[i:i+step].copy()\n",
    "\n",
    "model.fit(train[predictors], train[\"Target\"])\n",
    "\n",
    "preds = model.predict_proba(test[predictors])[:,1]\n",
    "preds\n",
    "\n",
    "# One demisional array of - probability that price will go up (1)"
   ]
  },
  {
   "cell_type": "code",
   "execution_count": 107,
   "id": "3db12539-cc47-4c4d-910c-e074b6519c75",
   "metadata": {},
   "outputs": [
    {
     "data": {
      "text/html": [
       "<div>\n",
       "<style scoped>\n",
       "    .dataframe tbody tr th:only-of-type {\n",
       "        vertical-align: middle;\n",
       "    }\n",
       "\n",
       "    .dataframe tbody tr th {\n",
       "        vertical-align: top;\n",
       "    }\n",
       "\n",
       "    .dataframe thead th {\n",
       "        text-align: right;\n",
       "    }\n",
       "</style>\n",
       "<table border=\"1\" class=\"dataframe\">\n",
       "  <thead>\n",
       "    <tr style=\"text-align: right;\">\n",
       "      <th></th>\n",
       "      <th>Target</th>\n",
       "      <th>Predictions</th>\n",
       "    </tr>\n",
       "    <tr>\n",
       "      <th>Date</th>\n",
       "      <th></th>\n",
       "      <th></th>\n",
       "    </tr>\n",
       "  </thead>\n",
       "  <tbody>\n",
       "    <tr>\n",
       "      <th>1990-02-27</th>\n",
       "      <td>0.0</td>\n",
       "      <td>1.0</td>\n",
       "    </tr>\n",
       "    <tr>\n",
       "      <th>1990-02-28</th>\n",
       "      <td>1.0</td>\n",
       "      <td>1.0</td>\n",
       "    </tr>\n",
       "    <tr>\n",
       "      <th>1990-03-01</th>\n",
       "      <td>1.0</td>\n",
       "      <td>0.0</td>\n",
       "    </tr>\n",
       "    <tr>\n",
       "      <th>1990-03-02</th>\n",
       "      <td>1.0</td>\n",
       "      <td>1.0</td>\n",
       "    </tr>\n",
       "    <tr>\n",
       "      <th>1990-03-05</th>\n",
       "      <td>1.0</td>\n",
       "      <td>1.0</td>\n",
       "    </tr>\n",
       "    <tr>\n",
       "      <th>...</th>\n",
       "      <td>...</td>\n",
       "      <td>...</td>\n",
       "    </tr>\n",
       "    <tr>\n",
       "      <th>1993-02-05</th>\n",
       "      <td>1.0</td>\n",
       "      <td>1.0</td>\n",
       "    </tr>\n",
       "    <tr>\n",
       "      <th>1993-02-08</th>\n",
       "      <td>0.0</td>\n",
       "      <td>1.0</td>\n",
       "    </tr>\n",
       "    <tr>\n",
       "      <th>1993-02-09</th>\n",
       "      <td>0.0</td>\n",
       "      <td>1.0</td>\n",
       "    </tr>\n",
       "    <tr>\n",
       "      <th>1993-02-10</th>\n",
       "      <td>1.0</td>\n",
       "      <td>1.0</td>\n",
       "    </tr>\n",
       "    <tr>\n",
       "      <th>1993-02-11</th>\n",
       "      <td>0.0</td>\n",
       "      <td>0.0</td>\n",
       "    </tr>\n",
       "  </tbody>\n",
       "</table>\n",
       "<p>750 rows × 2 columns</p>\n",
       "</div>"
      ],
      "text/plain": [
       "            Target  Predictions\n",
       "Date                           \n",
       "1990-02-27     0.0          1.0\n",
       "1990-02-28     1.0          1.0\n",
       "1990-03-01     1.0          0.0\n",
       "1990-03-02     1.0          1.0\n",
       "1990-03-05     1.0          1.0\n",
       "...            ...          ...\n",
       "1993-02-05     1.0          1.0\n",
       "1993-02-08     0.0          1.0\n",
       "1993-02-09     0.0          1.0\n",
       "1993-02-10     1.0          1.0\n",
       "1993-02-11     0.0          0.0\n",
       "\n",
       "[750 rows x 2 columns]"
      ]
     },
     "execution_count": 107,
     "metadata": {},
     "output_type": "execute_result"
    }
   ],
   "source": [
    "start = 1000\n",
    "step = 750 # step=100 will get us better predictions, the 750 is just faster\n",
    "i = 1000\n",
    "\n",
    "train = data.iloc[0:i].copy()\n",
    "test = data.iloc[i:i+step].copy()\n",
    "\n",
    "model.fit(train[predictors], train[\"Target\"])\n",
    "\n",
    "preds = model.predict_proba(test[predictors])[:,1]\n",
    "# This step is for the combined later step\n",
    "#  prediction by default is a numpy array, and we cannot concat numpy array with panda series\n",
    "preds = pd.Series(preds, index=test.index) \n",
    "preds[preds > 0.6] = 1 # by default it's 0.5 and we're setting 0.6 as a higher confidence threshold\n",
    "preds[preds <=0.6] = 0\n",
    "\n",
    "combined = pd.concat({\"Target\": test[\"Target\"], \"Predictions\": preds}, axis=1)\n",
    "\n",
    "combined"
   ]
  },
  {
   "cell_type": "code",
   "execution_count": 112,
   "id": "03b3e1a9-02c2-42e6-8267-e91cc53d2a4d",
   "metadata": {},
   "outputs": [],
   "source": [
    "start = 1000\n",
    "step = 750 # step=100 will get us better predictions, the 750 is just faster\n",
    "\n",
    "predictions = []\n",
    "for i in range (start, data.shape[0], step):\n",
    "    train = data.iloc[0:i].copy()\n",
    "    test = data.iloc[i:i+step].copy()\n",
    "\n",
    "    model.fit(train[predictors], train[\"Target\"])\n",
    "\n",
    "    preds = model.predict_proba(test[predictors])[:,1]\n",
    "    # This step is for the combined later step\n",
    "    #  prediction by default is a numpy array, and we cannot concat numpy array with panda series\n",
    "    preds = pd.Series(preds, index=test.index) \n",
    "    preds[preds > 0.6] = 1 # by default it's 0.5 and we're setting 0.6 as a higher confidence threshold\n",
    "    preds[preds <=0.6] = 0\n",
    "\n",
    "    combined = pd.concat({\"Target\": test[\"Target\"], \"Predictions\": preds}, axis=1)\n",
    "\n",
    "    predictions.append(combined)\n",
    "\n",
    "predictions = pd.concat(predictions)\n"
   ]
  },
  {
   "cell_type": "code",
   "execution_count": 113,
   "id": "c80b0b02-b8cc-4715-963c-557dd09b5220",
   "metadata": {},
   "outputs": [
    {
     "data": {
      "text/plain": [
       "0.0    7391\n",
       "1.0     666\n",
       "Name: Predictions, dtype: int64"
      ]
     },
     "execution_count": 113,
     "metadata": {},
     "output_type": "execute_result"
    }
   ],
   "source": [
    "predictions[\"Predictions\"].value_counts()"
   ]
  },
  {
   "cell_type": "code",
   "execution_count": 116,
   "id": "fa509be6-0f20-4d51-9a45-f8331ea4a7ea",
   "metadata": {},
   "outputs": [
    {
     "data": {
      "text/plain": [
       "0.5045045045045045"
      ]
     },
     "execution_count": 116,
     "metadata": {},
     "output_type": "execute_result"
    }
   ],
   "source": [
    "precision_score(predictions[\"Target\"], predictions[\"Predictions\"])"
   ]
  },
  {
   "cell_type": "code",
   "execution_count": 117,
   "id": "ecfa39ca-15da-4a0d-ad0c-e8d51f0accb1",
   "metadata": {},
   "outputs": [],
   "source": [
    "start = 1000\n",
    "step = 750 # step=100 will get us better predictions, the 750 is just faster\n",
    "\n",
    "def Backtest(data, model, predictors, start=1000, step=750):\n",
    "\n",
    "    predictions = []\n",
    "    for i in range (start, data.shape[0], step):\n",
    "        train = data.iloc[0:i].copy()\n",
    "        test = data.iloc[i:i+step].copy()\n",
    "\n",
    "        model.fit(train[predictors], train[\"Target\"])\n",
    "\n",
    "        preds = model.predict_proba(test[predictors])[:,1]\n",
    "        # This step is for the combined later step\n",
    "        #  prediction by default is a numpy array, and we cannot concat numpy array with panda series\n",
    "        preds = pd.Series(preds, index=test.index) \n",
    "        preds[preds > 0.6] = 1 # by default it's 0.5 and we're setting 0.6 as a higher confidence threshold\n",
    "        preds[preds <=0.6] = 0\n",
    "\n",
    "        combined = pd.concat({\"Target\": test[\"Target\"], \"Predictions\": preds}, axis=1)\n",
    "\n",
    "        predictions.append(combined)\n",
    "\n",
    "    predictions = pd.concat(predictions)\n",
    "    return predictions"
   ]
  },
  {
   "cell_type": "code",
   "execution_count": null,
   "id": "2cb12855-e83d-4f08-8d62-71aaa00b3038",
   "metadata": {},
   "outputs": [],
   "source": [
    "weekly_mean = data.rolling(7).mean()\n",
    "quarterly_mean = data.rolling(90).mean()\n",
    "annual_mean = data.rolling(365).mean()\n",
    "\n",
    "weekly_trend = data.shift"
   ]
  }
 ],
 "metadata": {
  "kernelspec": {
   "display_name": "Python 3",
   "language": "python",
   "name": "python3"
  },
  "language_info": {
   "codemirror_mode": {
    "name": "ipython",
    "version": 3
   },
   "file_extension": ".py",
   "mimetype": "text/x-python",
   "name": "python",
   "nbconvert_exporter": "python",
   "pygments_lexer": "ipython3",
   "version": "3.8.8"
  }
 },
 "nbformat": 4,
 "nbformat_minor": 5
}
